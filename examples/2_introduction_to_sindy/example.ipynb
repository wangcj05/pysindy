{
 "cells": [
  {
   "cell_type": "markdown",
   "id": "74e3546d",
   "metadata": {
    "lines_to_next_cell": 0
   },
   "source": [
    "# An introduction to Sparse Identification of Nonlinear Dynamical systems (SINDy)\n",
    "This notebook gives an overview of the Sparse Identification of Nonlinear Dynamical systems (SINDy) method and discusses the relationship between SINDy and PySINDy. It also includes a brief example showing how different objects in the SINDy method are represented in PySINDy."
   ]
  },
  {
   "cell_type": "markdown",
   "id": "d3ec5572",
   "metadata": {
    "lines_to_next_cell": 0
   },
   "source": [
    "[![Binder](https://mybinder.org/badge_logo.svg)](https://mybinder.org/v2/gh/dynamicslab/pysindy/v1.7.3?filepath=examples/2_introduction_to_sindy/example.ipynb)"
   ]
  },
  {
   "cell_type": "markdown",
   "id": "e632a8b9",
   "metadata": {
    "lines_to_next_cell": 0
   },
   "source": [
    "## Main ideas\n",
    "Suppose we have a set of measurements $x(t)\\in \\mathbb{R}^n$ from some physical system at different points in time $t$. SINDy seeks to represent the time evolution of $x(t)$ in terms of a nonlinear function $f$:\n",
    "\n",
    "$$ \\frac{d}{dt}x(t) = f(x(t)). $$\n",
    "\n",
    "This equation constitutes a *dynamical system* for the measurements $x(t)$. The vector $x(t)=[x_1(t), x_2(t), \\dots x_n(t)]^\\top$ gives the state of the physical system at time $t$. The function $f(x(t))$ constrains how the system evolves in time.\n",
    "\n",
    "The key idea behind SINDy is that the function $f$ is often **sparse** in the space of an appropriate set of basis functions. For example, the function\n",
    "\n",
    "$$\n",
    "\t\\frac{d}{dt}x = f(x)\n",
    "\t= \\begin{bmatrix} f_1(x)\\\\f_2(x) \\end{bmatrix}\n",
    "\t= \\begin{bmatrix}1 - x_1 + 3x_1x_2 \\\\ x_2^2 - 5x_1^3 \\end{bmatrix}\n",
    "$$\n",
    "\n",
    "is sparse with respect to the set of polynomials of two variables in the sense that if we were to write an expansion of the component functions of $f$ in this basis (e.g. $f_{1}(x) = \\sum_{i=0}^\\infty\\sum_{j=0}^\\infty a_{i,j}x_1^ix_2^j$), only a small number of coefficients ($a_{i,j}$) would be nonzero.\n",
    "\n",
    "SINDy employs **sparse regression** to find a linear combination of basis functions that best capture the dynamic behavior of the physical system."
   ]
  },
  {
   "cell_type": "markdown",
   "id": "979ff70e",
   "metadata": {
    "lines_to_next_cell": 0
   },
   "source": [
    "## Approximation problem\n",
    "To apply SINDy in practice one needs a set of measurement data collected at times $t_1, t_2, \\dots, t_n$, and the time derivatives of these measurements (either measured directly or numerically approximated). These data are aggregated into the matrices $X$ and $\\dot X$, respectively\n",
    "\n",
    "$$\n",
    "\tX = \\begin{bmatrix}\n",
    "\t\tx_1(t_1) & x_2(t_1) & \\dots & x_n(t_1) \\\\\n",
    "\t\tx_1(t_2) & x_2(t_2) & \\dots & x_n(t_2) \\\\\n",
    "\t\t\\vdots & \\vdots & & \\vdots \\\\ x_1(t_m) & x_2(t_m) & \\dots & x_n(t_m)\n",
    "\t\\end{bmatrix},\n",
    "\t\\qquad\n",
    "\t\\dot{X} = \\begin{bmatrix} \\dot{x_1}(t_1) & \\dot{x_2}(t_1) & \\dots & \\dot{x_n}(t_1) \\\\\n",
    "\t\t\\dot{x_1}(t_2) & \\dot{x_2}(t_2) & \\dots & \\dot{x_n}(t_2) \\\\\n",
    "\t\t\\vdots & \\vdots & & \\vdots \\\\\n",
    "\t\t\\dot{x_1}(t_m) & \\dot{x_2}(t_m) & \\dots & \\dot{x_n}(t_m)\n",
    "\t\\end{bmatrix}.\n",
    "$$\n",
    "\n",
    "Next, one forms a library matrix $\\Theta(X)$ whose columns consist of a chosen set of basis functions applied to the data\n",
    "\n",
    "$$\n",
    "\t\\Theta(X) = \\begin{bmatrix}\n",
    "\t\t\\mid & \\mid & & \\mid \\\\\n",
    "\t\t\\theta_1(X) & \\theta_2(X) & \\dots & \\theta_\\ell(X) \\\\\n",
    "\t\t\\mid & \\mid & & \\mid\n",
    "\t\\end{bmatrix}.\n",
    "$$\n",
    "\n",
    "For example, if $\\theta_1(x), \\theta_2(x), \\dots, \\theta_\\ell(x)$ are monomials ($\\theta_i(x) = x^{i-1}$), then\n",
    "\n",
    "$$\n",
    "\t\\theta_3(X) = \\begin{bmatrix}\n",
    "\t\t\\mid & \\mid & & \\mid & \\mid & & \\mid \\\\\n",
    "\t\tx_1(t)^2 & x_1(t)x_2(t) & \\dots & x_2(t)^2 & x_2(t)x_3(t) & \\dots & x_n^2(t) \\\\\n",
    "\t\t\\mid & \\mid & & \\mid & \\mid & & \\mid\n",
    "\t\\end{bmatrix},\n",
    "$$\n",
    "\n",
    "where vector products and powers are understood to be element-wise.\n",
    "\n",
    "We seek a set of sparse coefficient vectors (collected into a matrix)\n",
    "\n",
    "$$\n",
    "\t\\Xi = \\begin{bmatrix}\n",
    "\t\t\\mid & \\mid & & \\mid \\\\\n",
    "\t\t\\xi_1 & \\xi_2 & \\dots & \\xi_n \\\\\n",
    "\t\t\\mid & \\mid & & \\mid\n",
    "\t\\end{bmatrix}.\n",
    "$$\n",
    "\n",
    "The vector $\\xi_i$ provides the coefficients for a linear combination of basis functions $\\theta_1(x), \\theta_2(x), \\dots, \\theta_\\ell(x)$ representing the $i$th component function of $f$: $f_i(x)$. That is to say, $f_i(x) = \\Theta\\left(x^\\top\\right) \\xi_i$, where $\\Theta\\left(x^\\top\\right)$ is understood to be a row vector consisting of symbolic functions (whereas $\\Theta(X)$ is a matrix whose entries are numerical values).\n",
    "\n",
    "With each of the objects $X$, $\\dot X$, $\\Theta(X)$, and $\\Xi$ being defined, we are ready to write down the approximation problem underlying SINDy:\n",
    "\n",
    "$$ \\dot X \\approx \\Theta(X)\\Xi. $$"
   ]
  },
  {
   "cell_type": "markdown",
   "id": "47df68c0",
   "metadata": {
    "lines_to_next_cell": 0
   },
   "source": [
    "## Structure of PySINDy\n",
    "The submodules of PySINDy are each aligned with one of the terms in the aforementioned approximation equation\n",
    "\n",
    "$$ \\dot X \\approx \\Theta(X)\\Xi. $$\n",
    "\n",
    " * `pysindy.differentiate` performs numerical differentiation to compute $\\dot X$ from $X$;\n",
    " * `pysindy.feature_library` allows the user to specify a set of library functions and handles the formation of $\\Theta(X)$;\n",
    " * `pysindy.optimizers` provides a set of sparse regression solvers for determining $\\Xi$.\n",
    "\n",
    "The `SINDy` object encapsulates one class object from each of these three submodules and uses them, along with a user-supplied data matrix, to find a governing dynamical system.\n",
    "\n",
    "Let's walk through an example showing how this works using a toy dataset."
   ]
  },
  {
   "cell_type": "markdown",
   "id": "f4540d57",
   "metadata": {
    "lines_to_next_cell": 0
   },
   "source": [
    "## Example\n",
    "Suppose we have measurements of the position of a particle obeying the following dynamical system at different points in time:\n",
    "\n",
    "$$\n",
    "\t\\frac{d}{dt} \\begin{bmatrix} x \\\\ y \\end{bmatrix}\n",
    "\t= \\begin{bmatrix} -2x \\\\ y \\end{bmatrix}\n",
    "\t= \\begin{bmatrix} -2 & 0 \\\\ 0 & 1 \\end{bmatrix}\n",
    "\t\\begin{bmatrix} x \\\\ y \\end{bmatrix}\n",
    "$$\n",
    "\n",
    "Note that this system of differential equations decouples into two differential equations whose solutions are simply $x(t) = x_0e^{-2t}$ and $y(t) = y_0e^t$, where $x_0 = x(0)$ and $y_0=y(0)$ are the initial conditions.\n",
    "\n",
    "Using the initial conditions $x_0 = 3$ and $y_0 = \\tfrac{1}{2}$, we construct the data matrix $X$."
   ]
  },
  {
   "cell_type": "code",
   "execution_count": 1,
   "id": "bae090ac",
   "metadata": {
    "lines_to_next_cell": 2
   },
   "outputs": [],
   "source": [
    "import numpy as np\n",
    "\n",
    "import pysindy as ps\n",
    "\n",
    "if __name__ != \"testing\":\n",
    "    from example_data import gen_data1\n",
    "    from example_data import gen_data2\n",
    "else:\n",
    "    from mock_data import gen_data1\n",
    "    from mock_data import gen_data2"
   ]
  },
  {
   "cell_type": "code",
   "execution_count": 2,
   "id": "ac8b13c7",
   "metadata": {},
   "outputs": [],
   "source": [
    "t, x, y = gen_data1()\n",
    "X = np.stack((x, y), axis=-1)  # First column is x, second is y"
   ]
  },
  {
   "cell_type": "markdown",
   "id": "e75ab98f",
   "metadata": {},
   "source": [
    "We can select a differentiation method from the `differentiation` submodule."
   ]
  },
  {
   "cell_type": "code",
   "execution_count": 3,
   "id": "18adf1a0",
   "metadata": {},
   "outputs": [],
   "source": [
    "differentiation_method = ps.FiniteDifference(order=2)\n",
    "\n",
    "# We could instead call ps.differentiation.FiniteDifference(order=2)"
   ]
  },
  {
   "cell_type": "markdown",
   "id": "41f5ef42",
   "metadata": {},
   "source": [
    "While we could use this method to compute $\\dot X$ \"by hand,\" it is often more convenient to pass it into the `SINDy` object and let the computation of $\\dot X$ be handled automatically.\n",
    "\n",
    "The candidate library can be specified with an object from the `feature_library` submodule, which will also be passed into the `SINDy` object."
   ]
  },
  {
   "cell_type": "code",
   "execution_count": 4,
   "id": "448445da",
   "metadata": {},
   "outputs": [],
   "source": [
    "feature_library = ps.PolynomialLibrary(degree=3)\n",
    "\n",
    "# Note: We could instead call ps.feature_library.PolynomialLibrary(degree=3)"
   ]
  },
  {
   "cell_type": "markdown",
   "id": "74977e71",
   "metadata": {},
   "source": [
    "Next we select which optimizer should be used."
   ]
  },
  {
   "cell_type": "code",
   "execution_count": 5,
   "id": "336c6a77",
   "metadata": {},
   "outputs": [],
   "source": [
    "optimizer = ps.STLSQ(threshold=0.2)\n",
    "\n",
    "# Note: We could instead call ps.optimizers.STLSQ(threshold=0.2)"
   ]
  },
  {
   "cell_type": "markdown",
   "id": "4ff64e01",
   "metadata": {},
   "source": [
    "Finally, we bring these three components together in one `SINDy` object."
   ]
  },
  {
   "cell_type": "code",
   "execution_count": 6,
   "id": "4966e11a",
   "metadata": {},
   "outputs": [],
   "source": [
    "model = ps.SINDy(\n",
    "    differentiation_method=differentiation_method,\n",
    "    feature_library=feature_library,\n",
    "    optimizer=optimizer,\n",
    "    feature_names=[\"x\", \"y\"],\n",
    ")"
   ]
  },
  {
   "cell_type": "markdown",
   "id": "3815acb7",
   "metadata": {},
   "source": [
    "Following the `scikit-learn` workflow, we first instantiate a `SINDy` class object with the desired properties, then fit it to the data in separate step."
   ]
  },
  {
   "cell_type": "code",
   "execution_count": 7,
   "id": "66f1687b",
   "metadata": {},
   "outputs": [
    {
     "data": {
      "text/html": [
       "<style>#sk-container-id-1 {\n",
       "  /* Definition of color scheme common for light and dark mode */\n",
       "  --sklearn-color-text: black;\n",
       "  --sklearn-color-line: gray;\n",
       "  /* Definition of color scheme for unfitted estimators */\n",
       "  --sklearn-color-unfitted-level-0: #fff5e6;\n",
       "  --sklearn-color-unfitted-level-1: #f6e4d2;\n",
       "  --sklearn-color-unfitted-level-2: #ffe0b3;\n",
       "  --sklearn-color-unfitted-level-3: chocolate;\n",
       "  /* Definition of color scheme for fitted estimators */\n",
       "  --sklearn-color-fitted-level-0: #f0f8ff;\n",
       "  --sklearn-color-fitted-level-1: #d4ebff;\n",
       "  --sklearn-color-fitted-level-2: #b3dbfd;\n",
       "  --sklearn-color-fitted-level-3: cornflowerblue;\n",
       "\n",
       "  /* Specific color for light theme */\n",
       "  --sklearn-color-text-on-default-background: var(--sg-text-color, var(--theme-code-foreground, var(--jp-content-font-color1, black)));\n",
       "  --sklearn-color-background: var(--sg-background-color, var(--theme-background, var(--jp-layout-color0, white)));\n",
       "  --sklearn-color-border-box: var(--sg-text-color, var(--theme-code-foreground, var(--jp-content-font-color1, black)));\n",
       "  --sklearn-color-icon: #696969;\n",
       "\n",
       "  @media (prefers-color-scheme: dark) {\n",
       "    /* Redefinition of color scheme for dark theme */\n",
       "    --sklearn-color-text-on-default-background: var(--sg-text-color, var(--theme-code-foreground, var(--jp-content-font-color1, white)));\n",
       "    --sklearn-color-background: var(--sg-background-color, var(--theme-background, var(--jp-layout-color0, #111)));\n",
       "    --sklearn-color-border-box: var(--sg-text-color, var(--theme-code-foreground, var(--jp-content-font-color1, white)));\n",
       "    --sklearn-color-icon: #878787;\n",
       "  }\n",
       "}\n",
       "\n",
       "#sk-container-id-1 {\n",
       "  color: var(--sklearn-color-text);\n",
       "}\n",
       "\n",
       "#sk-container-id-1 pre {\n",
       "  padding: 0;\n",
       "}\n",
       "\n",
       "#sk-container-id-1 input.sk-hidden--visually {\n",
       "  border: 0;\n",
       "  clip: rect(1px 1px 1px 1px);\n",
       "  clip: rect(1px, 1px, 1px, 1px);\n",
       "  height: 1px;\n",
       "  margin: -1px;\n",
       "  overflow: hidden;\n",
       "  padding: 0;\n",
       "  position: absolute;\n",
       "  width: 1px;\n",
       "}\n",
       "\n",
       "#sk-container-id-1 div.sk-dashed-wrapped {\n",
       "  border: 1px dashed var(--sklearn-color-line);\n",
       "  margin: 0 0.4em 0.5em 0.4em;\n",
       "  box-sizing: border-box;\n",
       "  padding-bottom: 0.4em;\n",
       "  background-color: var(--sklearn-color-background);\n",
       "}\n",
       "\n",
       "#sk-container-id-1 div.sk-container {\n",
       "  /* jupyter's `normalize.less` sets `[hidden] { display: none; }`\n",
       "     but bootstrap.min.css set `[hidden] { display: none !important; }`\n",
       "     so we also need the `!important` here to be able to override the\n",
       "     default hidden behavior on the sphinx rendered scikit-learn.org.\n",
       "     See: https://github.com/scikit-learn/scikit-learn/issues/21755 */\n",
       "  display: inline-block !important;\n",
       "  position: relative;\n",
       "}\n",
       "\n",
       "#sk-container-id-1 div.sk-text-repr-fallback {\n",
       "  display: none;\n",
       "}\n",
       "\n",
       "div.sk-parallel-item,\n",
       "div.sk-serial,\n",
       "div.sk-item {\n",
       "  /* draw centered vertical line to link estimators */\n",
       "  background-image: linear-gradient(var(--sklearn-color-text-on-default-background), var(--sklearn-color-text-on-default-background));\n",
       "  background-size: 2px 100%;\n",
       "  background-repeat: no-repeat;\n",
       "  background-position: center center;\n",
       "}\n",
       "\n",
       "/* Parallel-specific style estimator block */\n",
       "\n",
       "#sk-container-id-1 div.sk-parallel-item::after {\n",
       "  content: \"\";\n",
       "  width: 100%;\n",
       "  border-bottom: 2px solid var(--sklearn-color-text-on-default-background);\n",
       "  flex-grow: 1;\n",
       "}\n",
       "\n",
       "#sk-container-id-1 div.sk-parallel {\n",
       "  display: flex;\n",
       "  align-items: stretch;\n",
       "  justify-content: center;\n",
       "  background-color: var(--sklearn-color-background);\n",
       "  position: relative;\n",
       "}\n",
       "\n",
       "#sk-container-id-1 div.sk-parallel-item {\n",
       "  display: flex;\n",
       "  flex-direction: column;\n",
       "}\n",
       "\n",
       "#sk-container-id-1 div.sk-parallel-item:first-child::after {\n",
       "  align-self: flex-end;\n",
       "  width: 50%;\n",
       "}\n",
       "\n",
       "#sk-container-id-1 div.sk-parallel-item:last-child::after {\n",
       "  align-self: flex-start;\n",
       "  width: 50%;\n",
       "}\n",
       "\n",
       "#sk-container-id-1 div.sk-parallel-item:only-child::after {\n",
       "  width: 0;\n",
       "}\n",
       "\n",
       "/* Serial-specific style estimator block */\n",
       "\n",
       "#sk-container-id-1 div.sk-serial {\n",
       "  display: flex;\n",
       "  flex-direction: column;\n",
       "  align-items: center;\n",
       "  background-color: var(--sklearn-color-background);\n",
       "  padding-right: 1em;\n",
       "  padding-left: 1em;\n",
       "}\n",
       "\n",
       "\n",
       "/* Toggleable style: style used for estimator/Pipeline/ColumnTransformer box that is\n",
       "clickable and can be expanded/collapsed.\n",
       "- Pipeline and ColumnTransformer use this feature and define the default style\n",
       "- Estimators will overwrite some part of the style using the `sk-estimator` class\n",
       "*/\n",
       "\n",
       "/* Pipeline and ColumnTransformer style (default) */\n",
       "\n",
       "#sk-container-id-1 div.sk-toggleable {\n",
       "  /* Default theme specific background. It is overwritten whether we have a\n",
       "  specific estimator or a Pipeline/ColumnTransformer */\n",
       "  background-color: var(--sklearn-color-background);\n",
       "}\n",
       "\n",
       "/* Toggleable label */\n",
       "#sk-container-id-1 label.sk-toggleable__label {\n",
       "  cursor: pointer;\n",
       "  display: block;\n",
       "  width: 100%;\n",
       "  margin-bottom: 0;\n",
       "  padding: 0.5em;\n",
       "  box-sizing: border-box;\n",
       "  text-align: center;\n",
       "}\n",
       "\n",
       "#sk-container-id-1 label.sk-toggleable__label-arrow:before {\n",
       "  /* Arrow on the left of the label */\n",
       "  content: \"▸\";\n",
       "  float: left;\n",
       "  margin-right: 0.25em;\n",
       "  color: var(--sklearn-color-icon);\n",
       "}\n",
       "\n",
       "#sk-container-id-1 label.sk-toggleable__label-arrow:hover:before {\n",
       "  color: var(--sklearn-color-text);\n",
       "}\n",
       "\n",
       "/* Toggleable content - dropdown */\n",
       "\n",
       "#sk-container-id-1 div.sk-toggleable__content {\n",
       "  max-height: 0;\n",
       "  max-width: 0;\n",
       "  overflow: hidden;\n",
       "  text-align: left;\n",
       "  /* unfitted */\n",
       "  background-color: var(--sklearn-color-unfitted-level-0);\n",
       "}\n",
       "\n",
       "#sk-container-id-1 div.sk-toggleable__content.fitted {\n",
       "  /* fitted */\n",
       "  background-color: var(--sklearn-color-fitted-level-0);\n",
       "}\n",
       "\n",
       "#sk-container-id-1 div.sk-toggleable__content pre {\n",
       "  margin: 0.2em;\n",
       "  border-radius: 0.25em;\n",
       "  color: var(--sklearn-color-text);\n",
       "  /* unfitted */\n",
       "  background-color: var(--sklearn-color-unfitted-level-0);\n",
       "}\n",
       "\n",
       "#sk-container-id-1 div.sk-toggleable__content.fitted pre {\n",
       "  /* unfitted */\n",
       "  background-color: var(--sklearn-color-fitted-level-0);\n",
       "}\n",
       "\n",
       "#sk-container-id-1 input.sk-toggleable__control:checked~div.sk-toggleable__content {\n",
       "  /* Expand drop-down */\n",
       "  max-height: 200px;\n",
       "  max-width: 100%;\n",
       "  overflow: auto;\n",
       "}\n",
       "\n",
       "#sk-container-id-1 input.sk-toggleable__control:checked~label.sk-toggleable__label-arrow:before {\n",
       "  content: \"▾\";\n",
       "}\n",
       "\n",
       "/* Pipeline/ColumnTransformer-specific style */\n",
       "\n",
       "#sk-container-id-1 div.sk-label input.sk-toggleable__control:checked~label.sk-toggleable__label {\n",
       "  color: var(--sklearn-color-text);\n",
       "  background-color: var(--sklearn-color-unfitted-level-2);\n",
       "}\n",
       "\n",
       "#sk-container-id-1 div.sk-label.fitted input.sk-toggleable__control:checked~label.sk-toggleable__label {\n",
       "  background-color: var(--sklearn-color-fitted-level-2);\n",
       "}\n",
       "\n",
       "/* Estimator-specific style */\n",
       "\n",
       "/* Colorize estimator box */\n",
       "#sk-container-id-1 div.sk-estimator input.sk-toggleable__control:checked~label.sk-toggleable__label {\n",
       "  /* unfitted */\n",
       "  background-color: var(--sklearn-color-unfitted-level-2);\n",
       "}\n",
       "\n",
       "#sk-container-id-1 div.sk-estimator.fitted input.sk-toggleable__control:checked~label.sk-toggleable__label {\n",
       "  /* fitted */\n",
       "  background-color: var(--sklearn-color-fitted-level-2);\n",
       "}\n",
       "\n",
       "#sk-container-id-1 div.sk-label label.sk-toggleable__label,\n",
       "#sk-container-id-1 div.sk-label label {\n",
       "  /* The background is the default theme color */\n",
       "  color: var(--sklearn-color-text-on-default-background);\n",
       "}\n",
       "\n",
       "/* On hover, darken the color of the background */\n",
       "#sk-container-id-1 div.sk-label:hover label.sk-toggleable__label {\n",
       "  color: var(--sklearn-color-text);\n",
       "  background-color: var(--sklearn-color-unfitted-level-2);\n",
       "}\n",
       "\n",
       "/* Label box, darken color on hover, fitted */\n",
       "#sk-container-id-1 div.sk-label.fitted:hover label.sk-toggleable__label.fitted {\n",
       "  color: var(--sklearn-color-text);\n",
       "  background-color: var(--sklearn-color-fitted-level-2);\n",
       "}\n",
       "\n",
       "/* Estimator label */\n",
       "\n",
       "#sk-container-id-1 div.sk-label label {\n",
       "  font-family: monospace;\n",
       "  font-weight: bold;\n",
       "  display: inline-block;\n",
       "  line-height: 1.2em;\n",
       "}\n",
       "\n",
       "#sk-container-id-1 div.sk-label-container {\n",
       "  text-align: center;\n",
       "}\n",
       "\n",
       "/* Estimator-specific */\n",
       "#sk-container-id-1 div.sk-estimator {\n",
       "  font-family: monospace;\n",
       "  border: 1px dotted var(--sklearn-color-border-box);\n",
       "  border-radius: 0.25em;\n",
       "  box-sizing: border-box;\n",
       "  margin-bottom: 0.5em;\n",
       "  /* unfitted */\n",
       "  background-color: var(--sklearn-color-unfitted-level-0);\n",
       "}\n",
       "\n",
       "#sk-container-id-1 div.sk-estimator.fitted {\n",
       "  /* fitted */\n",
       "  background-color: var(--sklearn-color-fitted-level-0);\n",
       "}\n",
       "\n",
       "/* on hover */\n",
       "#sk-container-id-1 div.sk-estimator:hover {\n",
       "  /* unfitted */\n",
       "  background-color: var(--sklearn-color-unfitted-level-2);\n",
       "}\n",
       "\n",
       "#sk-container-id-1 div.sk-estimator.fitted:hover {\n",
       "  /* fitted */\n",
       "  background-color: var(--sklearn-color-fitted-level-2);\n",
       "}\n",
       "\n",
       "/* Specification for estimator info (e.g. \"i\" and \"?\") */\n",
       "\n",
       "/* Common style for \"i\" and \"?\" */\n",
       "\n",
       ".sk-estimator-doc-link,\n",
       "a:link.sk-estimator-doc-link,\n",
       "a:visited.sk-estimator-doc-link {\n",
       "  float: right;\n",
       "  font-size: smaller;\n",
       "  line-height: 1em;\n",
       "  font-family: monospace;\n",
       "  background-color: var(--sklearn-color-background);\n",
       "  border-radius: 1em;\n",
       "  height: 1em;\n",
       "  width: 1em;\n",
       "  text-decoration: none !important;\n",
       "  margin-left: 1ex;\n",
       "  /* unfitted */\n",
       "  border: var(--sklearn-color-unfitted-level-1) 1pt solid;\n",
       "  color: var(--sklearn-color-unfitted-level-1);\n",
       "}\n",
       "\n",
       ".sk-estimator-doc-link.fitted,\n",
       "a:link.sk-estimator-doc-link.fitted,\n",
       "a:visited.sk-estimator-doc-link.fitted {\n",
       "  /* fitted */\n",
       "  border: var(--sklearn-color-fitted-level-1) 1pt solid;\n",
       "  color: var(--sklearn-color-fitted-level-1);\n",
       "}\n",
       "\n",
       "/* On hover */\n",
       "div.sk-estimator:hover .sk-estimator-doc-link:hover,\n",
       ".sk-estimator-doc-link:hover,\n",
       "div.sk-label-container:hover .sk-estimator-doc-link:hover,\n",
       ".sk-estimator-doc-link:hover {\n",
       "  /* unfitted */\n",
       "  background-color: var(--sklearn-color-unfitted-level-3);\n",
       "  color: var(--sklearn-color-background);\n",
       "  text-decoration: none;\n",
       "}\n",
       "\n",
       "div.sk-estimator.fitted:hover .sk-estimator-doc-link.fitted:hover,\n",
       ".sk-estimator-doc-link.fitted:hover,\n",
       "div.sk-label-container:hover .sk-estimator-doc-link.fitted:hover,\n",
       ".sk-estimator-doc-link.fitted:hover {\n",
       "  /* fitted */\n",
       "  background-color: var(--sklearn-color-fitted-level-3);\n",
       "  color: var(--sklearn-color-background);\n",
       "  text-decoration: none;\n",
       "}\n",
       "\n",
       "/* Span, style for the box shown on hovering the info icon */\n",
       ".sk-estimator-doc-link span {\n",
       "  display: none;\n",
       "  z-index: 9999;\n",
       "  position: relative;\n",
       "  font-weight: normal;\n",
       "  right: .2ex;\n",
       "  padding: .5ex;\n",
       "  margin: .5ex;\n",
       "  width: min-content;\n",
       "  min-width: 20ex;\n",
       "  max-width: 50ex;\n",
       "  color: var(--sklearn-color-text);\n",
       "  box-shadow: 2pt 2pt 4pt #999;\n",
       "  /* unfitted */\n",
       "  background: var(--sklearn-color-unfitted-level-0);\n",
       "  border: .5pt solid var(--sklearn-color-unfitted-level-3);\n",
       "}\n",
       "\n",
       ".sk-estimator-doc-link.fitted span {\n",
       "  /* fitted */\n",
       "  background: var(--sklearn-color-fitted-level-0);\n",
       "  border: var(--sklearn-color-fitted-level-3);\n",
       "}\n",
       "\n",
       ".sk-estimator-doc-link:hover span {\n",
       "  display: block;\n",
       "}\n",
       "\n",
       "/* \"?\"-specific style due to the `<a>` HTML tag */\n",
       "\n",
       "#sk-container-id-1 a.estimator_doc_link {\n",
       "  float: right;\n",
       "  font-size: 1rem;\n",
       "  line-height: 1em;\n",
       "  font-family: monospace;\n",
       "  background-color: var(--sklearn-color-background);\n",
       "  border-radius: 1rem;\n",
       "  height: 1rem;\n",
       "  width: 1rem;\n",
       "  text-decoration: none;\n",
       "  /* unfitted */\n",
       "  color: var(--sklearn-color-unfitted-level-1);\n",
       "  border: var(--sklearn-color-unfitted-level-1) 1pt solid;\n",
       "}\n",
       "\n",
       "#sk-container-id-1 a.estimator_doc_link.fitted {\n",
       "  /* fitted */\n",
       "  border: var(--sklearn-color-fitted-level-1) 1pt solid;\n",
       "  color: var(--sklearn-color-fitted-level-1);\n",
       "}\n",
       "\n",
       "/* On hover */\n",
       "#sk-container-id-1 a.estimator_doc_link:hover {\n",
       "  /* unfitted */\n",
       "  background-color: var(--sklearn-color-unfitted-level-3);\n",
       "  color: var(--sklearn-color-background);\n",
       "  text-decoration: none;\n",
       "}\n",
       "\n",
       "#sk-container-id-1 a.estimator_doc_link.fitted:hover {\n",
       "  /* fitted */\n",
       "  background-color: var(--sklearn-color-fitted-level-3);\n",
       "}\n",
       "</style><div id=\"sk-container-id-1\" class=\"sk-top-container\"><div class=\"sk-text-repr-fallback\"><pre>SINDy(differentiation_method=FiniteDifference(),\n",
       "      feature_library=PolynomialLibrary(degree=3), feature_names=[&#x27;x&#x27;, &#x27;y&#x27;],\n",
       "      optimizer=STLSQ(threshold=0.2))</pre><b>In a Jupyter environment, please rerun this cell to show the HTML representation or trust the notebook. <br />On GitHub, the HTML representation is unable to render, please try loading this page with nbviewer.org.</b></div><div class=\"sk-container\" hidden><div class=\"sk-item sk-dashed-wrapped\"><div class=\"sk-label-container\"><div class=\"sk-label fitted sk-toggleable\"><input class=\"sk-toggleable__control sk-hidden--visually\" id=\"sk-estimator-id-1\" type=\"checkbox\" ><label for=\"sk-estimator-id-1\" class=\"sk-toggleable__label fitted sk-toggleable__label-arrow fitted\">&nbsp;SINDy<span class=\"sk-estimator-doc-link fitted\">i<span>Fitted</span></span></label><div class=\"sk-toggleable__content fitted\"><pre>SINDy(differentiation_method=FiniteDifference(),\n",
       "      feature_library=PolynomialLibrary(degree=3), feature_names=[&#x27;x&#x27;, &#x27;y&#x27;],\n",
       "      optimizer=STLSQ(threshold=0.2))</pre></div> </div></div><div class=\"sk-parallel\"><div class=\"sk-parallel-item\"><div class=\"sk-item\"><div class=\"sk-label-container\"><div class=\"sk-label fitted sk-toggleable\"><input class=\"sk-toggleable__control sk-hidden--visually\" id=\"sk-estimator-id-2\" type=\"checkbox\" ><label for=\"sk-estimator-id-2\" class=\"sk-toggleable__label fitted sk-toggleable__label-arrow fitted\">feature_library: PolynomialLibrary</label><div class=\"sk-toggleable__content fitted\"><pre>PolynomialLibrary(degree=3)</pre></div> </div></div><div class=\"sk-serial\"><div class=\"sk-item\"><div class=\"sk-estimator fitted sk-toggleable\"><input class=\"sk-toggleable__control sk-hidden--visually\" id=\"sk-estimator-id-3\" type=\"checkbox\" ><label for=\"sk-estimator-id-3\" class=\"sk-toggleable__label fitted sk-toggleable__label-arrow fitted\">PolynomialLibrary</label><div class=\"sk-toggleable__content fitted\"><pre>PolynomialLibrary(degree=3)</pre></div> </div></div></div></div></div><div class=\"sk-parallel-item\"><div class=\"sk-item\"><div class=\"sk-label-container\"><div class=\"sk-label fitted sk-toggleable\"><input class=\"sk-toggleable__control sk-hidden--visually\" id=\"sk-estimator-id-4\" type=\"checkbox\" ><label for=\"sk-estimator-id-4\" class=\"sk-toggleable__label fitted sk-toggleable__label-arrow fitted\">optimizer: STLSQ</label><div class=\"sk-toggleable__content fitted\"><pre>STLSQ(threshold=0.2)</pre></div> </div></div><div class=\"sk-serial\"><div class=\"sk-item\"><div class=\"sk-estimator fitted sk-toggleable\"><input class=\"sk-toggleable__control sk-hidden--visually\" id=\"sk-estimator-id-5\" type=\"checkbox\" ><label for=\"sk-estimator-id-5\" class=\"sk-toggleable__label fitted sk-toggleable__label-arrow fitted\">STLSQ</label><div class=\"sk-toggleable__content fitted\"><pre>STLSQ(threshold=0.2)</pre></div> </div></div></div></div></div></div></div></div></div>"
      ],
      "text/plain": [
       "SINDy(differentiation_method=FiniteDifference(),\n",
       "      feature_library=PolynomialLibrary(degree=3), feature_names=['x', 'y'],\n",
       "      optimizer=STLSQ(threshold=0.2))"
      ]
     },
     "execution_count": 7,
     "metadata": {},
     "output_type": "execute_result"
    }
   ],
   "source": [
    "model.fit(X, t=t)"
   ]
  },
  {
   "cell_type": "markdown",
   "id": "a50e3e64",
   "metadata": {},
   "source": [
    "We can inspect the governing equations discovered by the model and check whether they seem reasonable with the `print` function."
   ]
  },
  {
   "cell_type": "code",
   "execution_count": 8,
   "id": "48bbff24",
   "metadata": {},
   "outputs": [
    {
     "name": "stdout",
     "output_type": "stream",
     "text": [
      "(x)' = -2.000 x\n",
      "(y)' = 1.000 y\n"
     ]
    }
   ],
   "source": [
    "model.print()"
   ]
  },
  {
   "cell_type": "markdown",
   "id": "7f3ea5fa",
   "metadata": {},
   "source": [
    "Once the SINDy model has been fit we can use it to evolve new initial conditions forward in time with the `simulate` function."
   ]
  },
  {
   "cell_type": "code",
   "execution_count": 10,
   "id": "244b8fa8",
   "metadata": {},
   "outputs": [],
   "source": [
    "x0, y0, t_test, x_test, y_test = gen_data2()\n",
    "sim = model.simulate([x0, y0], t=t_test)"
   ]
  },
  {
   "cell_type": "code",
   "execution_count": 11,
   "id": "e9891a1b",
   "metadata": {},
   "outputs": [
    {
     "data": {
      "image/png": "[encoded data removed]",
      "text/plain": [
       "<Figure size 640x480 with 1 Axes>"
      ]
     },
     "metadata": {},
     "output_type": "display_data"
    }
   ],
   "source": [
    "import matplotlib.pyplot as plt\n",
    "plt.ion()\n",
    "\n",
    "plt.figure()\n",
    "plt.plot(x0, y0, \"ro\", label=\"Initial condition\", alpha=0.6, markersize=8)\n",
    "plt.plot(x_test, y_test, \"b\", label=\"Exact solution\", alpha=0.4, linewidth=4)\n",
    "plt.plot(sim[:, 0], sim[:, 1], \"k--\", label=\"SINDy model\", linewidth=3)\n",
    "plt.xlabel(\"x\")\n",
    "plt.ylabel(\"y\")\n",
    "plt.legend()\n",
    "plt.show()"
   ]
  },
  {
   "cell_type": "markdown",
   "id": "8fe03a4f",
   "metadata": {},
   "source": [
    "Note that if the library we had chosen had been inappropriate for the problem at hand (i.e. if the dynamics could not be well-approximated as a sparse linear combination of library functions), then SINDy would have failed to produce a reasonable model. For example, if we solve the same problem, but using sines and cosines as our basis functions, SINDy is unable to find a sparse model for the dynamics:"
   ]
  },
  {
   "cell_type": "code",
   "execution_count": 12,
   "id": "3f46ef83",
   "metadata": {},
   "outputs": [
    {
     "name": "stdout",
     "output_type": "stream",
     "text": [
      "(x)' = 0.772 sin(1 x) + 2.097 cos(1 x) + -2.298 sin(1 y) + -3.115 cos(1 y)\n",
      "(y)' = 1.362 sin(1 y) + -0.222 cos(1 y)\n"
     ]
    }
   ],
   "source": [
    "# Populate the library with trigonometric functions\n",
    "feature_library = ps.FourierLibrary()\n",
    "\n",
    "model = ps.SINDy(\n",
    "    differentiation_method=differentiation_method,\n",
    "    feature_library=feature_library,\n",
    "    optimizer=optimizer,\n",
    "    feature_names=[\"x\", \"y\"],\n",
    ")\n",
    "model.fit(X, t=t)\n",
    "model.print()"
   ]
  },
  {
   "cell_type": "markdown",
   "id": "83d43ceb-0be7-45fe-96c2-7c6e321ed4b3",
   "metadata": {},
   "source": [
    "## Additonal Testing: "
   ]
  },
  {
   "cell_type": "code",
   "execution_count": 22,
   "id": "893e24f5-9c7c-45d6-85c8-7bc570954899",
   "metadata": {},
   "outputs": [],
   "source": [
    "differentiation_method = ps.FiniteDifference(order=2)\n",
    "feature_library = ps.PolynomialLibrary(degree=3)\n",
    "optimizer = ps.STLSQ(threshold=0.2)\n",
    "model = ps.SINDy(\n",
    "    differentiation_method=differentiation_method,\n",
    "    feature_library=feature_library,\n",
    "    optimizer=optimizer,\n",
    "    feature_names=[\"x\", \"y\"],\n",
    ")"
   ]
  },
  {
   "cell_type": "code",
   "execution_count": 23,
   "id": "3d532bac-a9db-4cd0-bfd1-f8b5c08243d3",
   "metadata": {},
   "outputs": [
    {
     "name": "stdout",
     "output_type": "stream",
     "text": [
      "(x)' = 1.000 x y\n",
      "(y)' = 1.000 x y + 1.000 y^2\n"
     ]
    }
   ],
   "source": [
    "t, x, y = gen_data1()\n",
    "X = np.stack((x, y), axis=-1)  # First column is x, second is y\n",
    "Y = np.stack((x*y, x*y+y**2), axis=-1)\n",
    "model.fit_regression(X, Y, t)\n",
    "model.print()"
   ]
  },
  {
   "cell_type": "code",
   "execution_count": 119,
   "id": "a633f2fc-5597-460c-bec7-d819b24a95bb",
   "metadata": {},
   "outputs": [
    {
     "name": "stdout",
     "output_type": "stream",
     "text": [
      "(a)' = 0.463 1 + 0.208 a + -0.170 a^2 + -0.371 a^3 + -0.507 a b^2 + 0.371 b^3 + 0.386 a^4 + 0.461 a^3 b + -1.040 a^2 b^2 + 2.161 b^4\n",
      "(b)' = 0.300 a^2\n"
     ]
    }
   ],
   "source": [
    "T = 5000\n",
    "var_names = ['a', 'b']\n",
    "a, b = 0, T\n",
    "data = np.random.uniform(low=0.0, high=1.0, size=(T, len(var_names)))\n",
    "for t in range(1, T):\n",
    "    # data[t, 0] = 0.1*data[t-1, 0] \n",
    "    # data[t, 1] += 0.2*data[t-1, 1] + 0.3*data[t-1, 0] \n",
    "    data[t, 1] =  0.3*data[t-1, 0]**2 \n",
    "optimizer = ps.STLSQ(threshold=0.1)\n",
    "feature_library = ps.PolynomialLibrary(degree=4)\n",
    "model = ps.SINDy(\n",
    "    differentiation_method=differentiation_method,\n",
    "    feature_library=feature_library,\n",
    "    optimizer=optimizer,\n",
    "    feature_names=[\"a\", \"b\", \"a-1\", \"b-1\"],\n",
    ")\n",
    "\n",
    "# X = np.stack((data[1:,0], data[1:,1],data[:-1,0], data[:-1,1]), axis=-1)\n",
    "X = np.stack((data[:-1,0], data[:-1,1]), axis=-1)\n",
    "\n",
    "\n",
    "model.fit_regression(X, data[1:,:], t=1)\n",
    "model.print()\n",
    "\n",
    "sim = model.predict(X)"
   ]
  },
  {
   "cell_type": "code",
   "execution_count": 110,
   "id": "7b7d6954-7518-4731-a56e-948025e0ba76",
   "metadata": {},
   "outputs": [
    {
     "data": {
      "image/png": "[encoded data removed]",
      "text/plain": [
       "<Figure size 640x480 with 1 Axes>"
      ]
     },
     "metadata": {},
     "output_type": "display_data"
    }
   ],
   "source": [
    "plt.figure()\n",
    "plt.plot(data[1:,0], \"b\", label=\"Exact solution\", alpha=0.4, linewidth=4)\n",
    "# plt.plot(sim[:, 0], \"k--\", label=\"SINDy model\", linewidth=3)\n",
    "plt.xlabel(\"x\")\n",
    "plt.ylabel(\"y\")\n",
    "plt.legend()\n",
    "plt.show()"
   ]
  },
  {
   "cell_type": "code",
   "execution_count": 161,
   "id": "eabb991a-dcfa-43c2-a8f7-0710b63bdfb8",
   "metadata": {},
   "outputs": [
    {
     "name": "stdout",
     "output_type": "stream",
     "text": [
      "(a)' = 0.200 b + 3.000 b^2\n"
     ]
    },
    {
     "name": "stderr",
     "output_type": "stream",
     "text": [
      "/Users/wangc/projects/LDRD_causal/software/pysindy/pysindy/utils/axes.py:126: AxesWarning: 2 axes labeled for array with 1 axes\n",
      "  warnings.warn(\n"
     ]
    }
   ],
   "source": [
    "T = 5000\n",
    "var_names = ['a', 'b', 'c']\n",
    "a, b = 0, T\n",
    "data = np.random.randn(T, len(var_names))\n",
    "y0 = np.zeros(T-1)\n",
    "y1 = np.zeros(T-1)\n",
    "for t in range(1, T):\n",
    "    y0[t-1]= 0.2*data[t-1, 1] + data[t-1, 1]**2*3\n",
    "    y1[t-1]= 0.3*data[t-1, 1]\n",
    "optimizer = ps.STLSQ(threshold=0.1)\n",
    "feature_library = ps.PolynomialLibrary(degree=4)\n",
    "model = ps.SINDy(\n",
    "    differentiation_method=differentiation_method,\n",
    "    feature_library=feature_library,\n",
    "    optimizer=optimizer,\n",
    "    feature_names=[\"a\", \"b\", \"c\"],\n",
    ")\n",
    "\n",
    "# X = np.stack((data[1:,0], data[1:,1],data[:-1,0], data[:-1,1]), axis=-1)\n",
    "X = np.stack((data[1:,1], data[:-1,1], data[:-1,0]), axis=-1)\n",
    "\n",
    "\n",
    "model.fit_regression(X, y0, t=1)\n",
    "model.print()\n",
    "\n",
    "# sim = model.predict(X)"
   ]
  },
  {
   "cell_type": "code",
   "execution_count": 164,
   "id": "077d50f7-8879-4632-bc2f-0fcf8f6f4baa",
   "metadata": {},
   "outputs": [
    {
     "data": {
      "text/plain": [
       "array([ 0.        ,  0.01241533,  0.26127133,  0.00821254,  0.00845758,\n",
       "        0.00501248, -0.00882598,  3.12362009, -0.00785447,  0.01906939])"
      ]
     },
     "execution_count": 164,
     "metadata": {},
     "output_type": "execute_result"
    }
   ],
   "source": [
    "from sklearn.linear_model import Perceptron\n",
    "from sklearn.preprocessing import PolynomialFeatures\n",
    "from sklearn import linear_model\n",
    "import numpy as np\n",
    "X1 = PolynomialFeatures(interaction_only=False).fit_transform(X).astype(int)\n",
    "# clf = Perceptron(fit_intercept=False, max_iter=10, tol=None,\n",
    "#                  shuffle=False).fit(X1, y0)\n",
    "reg = linear_model.LinearRegression()\n",
    "reg.fit(X1, y0)\n",
    "reg.coef_"
   ]
  },
  {
   "cell_type": "code",
   "execution_count": null,
   "id": "087e7439-08d0-45fd-b92e-c45b7b8a0f93",
   "metadata": {},
   "outputs": [],
   "source": []
  }
 ],
 "metadata": {
  "jupytext": {
   "cell_metadata_filter": "-all",
   "main_language": "python",
   "notebook_metadata_filter": "-all"
  },
  "kernelspec": {
   "display_name": "Python 3 (ipykernel)",
   "language": "python",
   "name": "python3"
  },
  "language_info": {
   "codemirror_mode": {
    "name": "ipython",
    "version": 3
   },
   "file_extension": ".py",
   "mimetype": "text/x-python",
   "name": "python",
   "nbconvert_exporter": "python",
   "pygments_lexer": "ipython3",
   "version": "3.10.14"
  }
 },
 "nbformat": 4,
 "nbformat_minor": 5
}
